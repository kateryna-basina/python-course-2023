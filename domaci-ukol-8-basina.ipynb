{
 "cells": [
  {
   "attachments": {},
   "cell_type": "markdown",
   "metadata": {},
   "source": [
    "## ukol-08: Adopce zvířat"
   ]
  },
  {
   "attachments": {},
   "cell_type": "markdown",
   "metadata": {},
   "source": [
    "Stáhni si dataset, který obsahuje seznam zvířat k adopci v ZOO Praha. Zdroj dat je Národní katalog otevřených dat.\n",
    "\n",
    "Data si načti pomocí metody pandas.read_csv(). Pozor, nastav oddělovač na znak středníku. Využij parametr sep."
   ]
  },
  {
   "cell_type": "code",
   "execution_count": 5,
   "metadata": {},
   "outputs": [
    {
     "name": "stdout",
     "output_type": "stream",
     "text": [
      "       id             nazev_cz                     nazev_en       trida_cz   \n",
      "0       7          Šváb syčivý  Madagascar giant cockroach      Bezobratlí  \\\n",
      "1       8  Pakobylka okřídlená     Pink-winged stick insect     Bezobratlí   \n",
      "2      16                Tayra                        Tayra          Savci   \n",
      "3      35        Kajmanka supí    Alligator snapping turtle          Plazi   \n",
      "4      37      Želva žlutočelá       Indochinese box turtle          Plazi   \n",
      "..    ...                  ...                          ...            ...   \n",
      "508  1417  Rosnice šalamounská                               Obojživelníci   \n",
      "509  1418       Létavka obecná                               Obojživelníci   \n",
      "510  1419          Bažant paví                                       Ptáci   \n",
      "511  1420  Sojkovec rezavouchý                                       Ptáci   \n",
      "512  1421   Kachnice kaštanová                                       Ptáci   \n",
      "\n",
      "     cena  k_prohlidce  \n",
      "0    1000            1  \n",
      "1    1000            1  \n",
      "2    5000            1  \n",
      "3    2000            1  \n",
      "4    1000            1  \n",
      "..    ...          ...  \n",
      "508  1000            1  \n",
      "509  1000            1  \n",
      "510  1000            1  \n",
      "511  1000            1  \n",
      "512  1000            1  \n",
      "\n",
      "[513 rows x 6 columns]\n"
     ]
    }
   ],
   "source": [
    "import pandas\n",
    "zoo = pandas.read_csv('adopce-zvirat.csv', sep =';')\n",
    "print(zoo)"
   ]
  },
  {
   "attachments": {},
   "cell_type": "markdown",
   "metadata": {},
   "source": [
    "Seznam se s daty. Kolik má tabulka řádek a sloupců? "
   ]
  },
  {
   "cell_type": "code",
   "execution_count": 6,
   "metadata": {},
   "outputs": [
    {
     "name": "stdout",
     "output_type": "stream",
     "text": [
      "(513, 6)\n"
     ]
    }
   ],
   "source": [
    "print(zoo.shape)"
   ]
  },
  {
   "attachments": {},
   "cell_type": "markdown",
   "metadata": {},
   "source": [
    "Jak se sloupce jmenují?"
   ]
  },
  {
   "cell_type": "code",
   "execution_count": 7,
   "metadata": {},
   "outputs": [
    {
     "name": "stdout",
     "output_type": "stream",
     "text": [
      "Index(['id', 'nazev_cz', 'nazev_en', 'trida_cz', 'cena', 'k_prohlidce'], dtype='object')\n"
     ]
    }
   ],
   "source": [
    "print(zoo.columns)\n"
   ]
  },
  {
   "attachments": {},
   "cell_type": "markdown",
   "metadata": {},
   "source": [
    "Které zvíře se nachází na záznamu s indexem 34? Vypiš název tohoto zvířete v češtině a v angličtině.\n",
    "\n"
   ]
  },
  {
   "cell_type": "code",
   "execution_count": 18,
   "metadata": {},
   "outputs": [
    {
     "name": "stdout",
     "output_type": "stream",
     "text": [
      "     nazev_cz    nazev_en\n",
      "34  Ibis bílý  White ibis\n"
     ]
    }
   ],
   "source": [
    "print(zoo.loc[[34],['nazev_cz', 'nazev_en']])"
   ]
  },
  {
   "attachments": {},
   "cell_type": "markdown",
   "metadata": {},
   "source": [
    "# Bonus\n",
    "\n",
    "Využij metody sort_values() (a libovolných dalších metod), ke zjištění následujících informací:\n",
    "\n",
    "Adopce kterých zvířat je nejdražší?\n",
    "Které zvíře je alfabeticky poslední v češtině? Které v angličtině?\n"
   ]
  },
  {
   "cell_type": "code",
   "execution_count": 20,
   "metadata": {},
   "outputs": [
    {
     "data": {
      "text/html": [
       "<div>\n",
       "<style scoped>\n",
       "    .dataframe tbody tr th:only-of-type {\n",
       "        vertical-align: middle;\n",
       "    }\n",
       "\n",
       "    .dataframe tbody tr th {\n",
       "        vertical-align: top;\n",
       "    }\n",
       "\n",
       "    .dataframe thead th {\n",
       "        text-align: right;\n",
       "    }\n",
       "</style>\n",
       "<table border=\"1\" class=\"dataframe\">\n",
       "  <thead>\n",
       "    <tr style=\"text-align: right;\">\n",
       "      <th></th>\n",
       "      <th>id</th>\n",
       "      <th>nazev_cz</th>\n",
       "      <th>nazev_en</th>\n",
       "      <th>trida_cz</th>\n",
       "      <th>cena</th>\n",
       "      <th>k_prohlidce</th>\n",
       "    </tr>\n",
       "  </thead>\n",
       "  <tbody>\n",
       "    <tr>\n",
       "      <th>114</th>\n",
       "      <td>335</td>\n",
       "      <td>Tygr sumaterský</td>\n",
       "      <td>Sumatran tiger</td>\n",
       "      <td>Savci</td>\n",
       "      <td>50000</td>\n",
       "      <td>1</td>\n",
       "    </tr>\n",
       "    <tr>\n",
       "      <th>113</th>\n",
       "      <td>334</td>\n",
       "      <td>Tygr ussurijský</td>\n",
       "      <td>Siberian tiger</td>\n",
       "      <td>Savci</td>\n",
       "      <td>50000</td>\n",
       "      <td>1</td>\n",
       "    </tr>\n",
       "    <tr>\n",
       "      <th>272</th>\n",
       "      <td>897</td>\n",
       "      <td>Tygr malajský</td>\n",
       "      <td>Malayan tiger</td>\n",
       "      <td>Savci</td>\n",
       "      <td>50000</td>\n",
       "      <td>1</td>\n",
       "    </tr>\n",
       "    <tr>\n",
       "      <th>129</th>\n",
       "      <td>385</td>\n",
       "      <td>Hroch obojživelný</td>\n",
       "      <td>Hippopotamus</td>\n",
       "      <td>Savci</td>\n",
       "      <td>50000</td>\n",
       "      <td>1</td>\n",
       "    </tr>\n",
       "    <tr>\n",
       "      <th>128</th>\n",
       "      <td>381</td>\n",
       "      <td>Slon indický</td>\n",
       "      <td>Asian elephant</td>\n",
       "      <td>Savci</td>\n",
       "      <td>50000</td>\n",
       "      <td>1</td>\n",
       "    </tr>\n",
       "    <tr>\n",
       "      <th>...</th>\n",
       "      <td>...</td>\n",
       "      <td>...</td>\n",
       "      <td>...</td>\n",
       "      <td>...</td>\n",
       "      <td>...</td>\n",
       "      <td>...</td>\n",
       "    </tr>\n",
       "    <tr>\n",
       "      <th>278</th>\n",
       "      <td>913</td>\n",
       "      <td>Čichavec perleťový</td>\n",
       "      <td>Pearl gourami</td>\n",
       "      <td>Ryby</td>\n",
       "      <td>1000</td>\n",
       "      <td>0</td>\n",
       "    </tr>\n",
       "    <tr>\n",
       "      <th>277</th>\n",
       "      <td>911</td>\n",
       "      <td>Papoušek zpěvavý</td>\n",
       "      <td>Red-rumped parrot</td>\n",
       "      <td>Ptáci</td>\n",
       "      <td>1000</td>\n",
       "      <td>1</td>\n",
       "    </tr>\n",
       "    <tr>\n",
       "      <th>276</th>\n",
       "      <td>910</td>\n",
       "      <td>Papoušek vlnkovaný (= andulka vlnkovaná)</td>\n",
       "      <td>Budgerigar</td>\n",
       "      <td>Ptáci</td>\n",
       "      <td>1000</td>\n",
       "      <td>0</td>\n",
       "    </tr>\n",
       "    <tr>\n",
       "      <th>275</th>\n",
       "      <td>909</td>\n",
       "      <td>Hýl mexický</td>\n",
       "      <td>House finch</td>\n",
       "      <td>Ptáci</td>\n",
       "      <td>1000</td>\n",
       "      <td>1</td>\n",
       "    </tr>\n",
       "    <tr>\n",
       "      <th>512</th>\n",
       "      <td>1421</td>\n",
       "      <td>Kachnice kaštanová</td>\n",
       "      <td></td>\n",
       "      <td>Ptáci</td>\n",
       "      <td>1000</td>\n",
       "      <td>1</td>\n",
       "    </tr>\n",
       "  </tbody>\n",
       "</table>\n",
       "<p>513 rows × 6 columns</p>\n",
       "</div>"
      ],
      "text/plain": [
       "       id                                  nazev_cz           nazev_en   \n",
       "114   335                           Tygr sumaterský     Sumatran tiger  \\\n",
       "113   334                           Tygr ussurijský     Siberian tiger   \n",
       "272   897                             Tygr malajský      Malayan tiger   \n",
       "129   385                         Hroch obojživelný       Hippopotamus   \n",
       "128   381                              Slon indický     Asian elephant   \n",
       "..    ...                                       ...                ...   \n",
       "278   913                        Čichavec perleťový      Pearl gourami   \n",
       "277   911                          Papoušek zpěvavý  Red-rumped parrot   \n",
       "276   910  Papoušek vlnkovaný (= andulka vlnkovaná)         Budgerigar   \n",
       "275   909                               Hýl mexický        House finch   \n",
       "512  1421                        Kachnice kaštanová                      \n",
       "\n",
       "    trida_cz   cena  k_prohlidce  \n",
       "114    Savci  50000            1  \n",
       "113    Savci  50000            1  \n",
       "272    Savci  50000            1  \n",
       "129    Savci  50000            1  \n",
       "128    Savci  50000            1  \n",
       "..       ...    ...          ...  \n",
       "278     Ryby   1000            0  \n",
       "277    Ptáci   1000            1  \n",
       "276    Ptáci   1000            0  \n",
       "275    Ptáci   1000            1  \n",
       "512    Ptáci   1000            1  \n",
       "\n",
       "[513 rows x 6 columns]"
      ]
     },
     "execution_count": 20,
     "metadata": {},
     "output_type": "execute_result"
    }
   ],
   "source": [
    "zoo.sort_values (by=['cena'], ascending=False)"
   ]
  },
  {
   "cell_type": "code",
   "execution_count": 25,
   "metadata": {},
   "outputs": [
    {
     "name": "stdout",
     "output_type": "stream",
     "text": [
      "       id     nazev_cz                nazev_en trida_cz  cena  k_prohlidce\n",
      "371  1190  Žluva hajní  Eurasian golden oriole    Ptáci  1000            1\n"
     ]
    }
   ],
   "source": [
    "posledni_nazev=zoo.sort_values (by=['nazev_cz'], ascending=True)\n",
    "print(posledni_nazev.tail(1))"
   ]
  },
  {
   "cell_type": "code",
   "execution_count": 28,
   "metadata": {},
   "outputs": [
    {
     "name": "stdout",
     "output_type": "stream",
     "text": [
      "       id             nazev_cz                       nazev_en trida_cz  cena   \n",
      "422  1296        Špaček čínský      White-shouldered starling    Ptáci  1000  \\\n",
      "348  1154   Sojkovec bělohrdlý  White-throated laughingthrush    Ptáci  1000   \n",
      "152   461  Pižmovka bělokřídlá         White-winged wood duck    Ptáci  1000   \n",
      "359  1169          Holub wonga                   Wonga pigeon    Ptáci  1000   \n",
      "445  1331          Svišť lesní                      Woodchuck    Savci  2000   \n",
      "196   628       Mangusta liščí                Yellow mongoose    Savci  5000   \n",
      "230   745        Nesyt africký            Yellow-billed stork    Ptáci  2500   \n",
      "341  1140      Majna žlutolící             Yellow-faced mynah    Ptáci  2000   \n",
      "455  1347    Vlhovec žlutokápý        Yellow-hooded blackbird    Ptáci  1000   \n",
      "161   491  Frankolín žlutokrký        Yellow-necked francolin    Ptáci  1000   \n",
      "\n",
      "     k_prohlidce  \n",
      "422            1  \n",
      "348            1  \n",
      "152            1  \n",
      "359            1  \n",
      "445            1  \n",
      "196            1  \n",
      "230            0  \n",
      "341            1  \n",
      "455            0  \n",
      "161            1  \n"
     ]
    }
   ],
   "source": [
    "last_name=zoo.sort_values (by=['nazev_en'], ascending=True)\n",
    "print(last_name.tail(1))"
   ]
  }
 ],
 "metadata": {
  "kernelspec": {
   "display_name": "Python 3",
   "language": "python",
   "name": "python3"
  },
  "language_info": {
   "codemirror_mode": {
    "name": "ipython",
    "version": 3
   },
   "file_extension": ".py",
   "mimetype": "text/x-python",
   "name": "python",
   "nbconvert_exporter": "python",
   "pygments_lexer": "ipython3",
   "version": "3.9.10"
  },
  "orig_nbformat": 4
 },
 "nbformat": 4,
 "nbformat_minor": 2
}
